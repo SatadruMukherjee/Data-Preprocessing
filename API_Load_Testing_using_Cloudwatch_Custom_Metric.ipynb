{
  "nbformat": 4,
  "nbformat_minor": 0,
  "metadata": {
    "colab": {
      "provenance": [],
      "authorship_tag": "ABX9TyPx14exc0tt0xFeYnpWFa2c",
      "include_colab_link": true
    },
    "kernelspec": {
      "name": "python3",
      "display_name": "Python 3"
    },
    "language_info": {
      "name": "python"
    }
  },
  "cells": [
    {
      "cell_type": "markdown",
      "metadata": {
        "id": "view-in-github",
        "colab_type": "text"
      },
      "source": [
        "<a href=\"https://colab.research.google.com/github/SatadruMukherjee/Data-Preprocessing-Models/blob/main/API_Load_Testing_using_Cloudwatch_Custom_Metric.ipynb\" target=\"_parent\"><img src=\"https://colab.research.google.com/assets/colab-badge.svg\" alt=\"Open In Colab\"/></a>"
      ]
    },
    {
      "cell_type": "code",
      "execution_count": null,
      "metadata": {
        "id": "DKGsa9g-0rSj"
      },
      "outputs": [],
      "source": [
        "!pip3 install boto3 requests pandas"
      ]
    },
    {
      "cell_type": "code",
      "source": [
        "import time\n",
        "import json\n",
        "import pandas as pd\n",
        "import requests\n",
        "import boto3"
      ],
      "metadata": {
        "id": "z3IlVwZXAYES"
      },
      "execution_count": null,
      "outputs": []
    },
    {
      "cell_type": "code",
      "source": [
        "\n",
        "# Initialize CloudWatch client\n",
        "cloudwatch = boto3.client('cloudwatch', aws_access_key_id='', aws_secret_access_key='', region_name='us-east-1')\n",
        "\n",
        "# Read the CSV file\n",
        "csv_file = \"/content/extarcted_data_for_testing30k.csv\"  # Replace with the path to your CSV file\n",
        "data = pd.read_csv(csv_file)\n",
        "data = data.head(300)\n",
        "\n",
        "# API URL and headers\n",
        "api_url = \"https://hccreference.com/api/search\"\n",
        "headers = {\n",
        "    'accept': 'application/json, text/plain, */*',\n",
        "    'accept-language': 'en-US,en;q=0.9,bn;q=0.8,hi;q=0.7',\n",
        "    'cache-control': 'no-cache',\n",
        "    'content-type': 'application/json',\n",
        "    'origin': 'https://hccreference.com',\n",
        "    'pragma': 'no-cache',\n",
        "    'referer': 'https://hccreference.com/',\n",
        "    'user-agent': 'Mozilla/5.0 (Windows NT 10.0; Win64; x64) AppleWebKit/537.36 (KHTML, like Gecko) Chrome/131.0.0.0 Safari/537.36',\n",
        "}\n",
        "\n",
        "def send_metrics_to_cloudwatch(metric_name, value, unit='Milliseconds', namespace='API_RESPONSE_DATA_CUSTOM_METRIC'):\n",
        "    try:\n",
        "        cloudwatch.put_metric_data(\n",
        "            MetricData=[\n",
        "                {\n",
        "                    'MetricName': metric_name,\n",
        "                    'Unit': unit,\n",
        "                    'Value': value\n",
        "                },\n",
        "            ],\n",
        "            Namespace=namespace\n",
        "        )\n",
        "        print(f\"Metric {metric_name} sent successfully.\")\n",
        "    except Exception as e:\n",
        "        print(f\"Error sending metric {metric_name}: {e}\")\n",
        "\n",
        "def make_api_requests(data):\n",
        "    for index, row in data.iterrows():\n",
        "        payload = {\n",
        "            \"dx_hcc\": row['dx_hcc'],\n",
        "            \"dos_year\": row['dos_year'],\n",
        "            \"drf\": row['drf'],\n",
        "            \"search\": row['search']\n",
        "        }\n",
        "        try:\n",
        "            start_time = time.perf_counter()\n",
        "            response = requests.post(api_url, headers=headers, json=payload)\n",
        "            end_time = time.perf_counter()\n",
        "\n",
        "            response_time = (end_time - start_time) * 1000  # Convert to milliseconds\n",
        "            print(f\"Row {index + 1}: Response time {response_time:.2f} ms\")\n",
        "\n",
        "            send_metrics_to_cloudwatch('API_Response_Time', response_time)\n",
        "\n",
        "            if response.status_code != 200:\n",
        "                print(f\"Row {index + 1}: API error - {response.status_code}\")\n",
        "                send_metrics_to_cloudwatch('API_Errors', 1, unit='Count')\n",
        "        except Exception as e:\n",
        "            print(f\"Error processing row {index + 1}: {e}\")\n",
        "            send_metrics_to_cloudwatch('API_Errors', 1, unit='Count')\n",
        "\n",
        "# Run the API requests\n",
        "make_api_requests(data)\n"
      ],
      "metadata": {
        "id": "I25hiqiz02Aj"
      },
      "execution_count": null,
      "outputs": []
    }
  ]
}