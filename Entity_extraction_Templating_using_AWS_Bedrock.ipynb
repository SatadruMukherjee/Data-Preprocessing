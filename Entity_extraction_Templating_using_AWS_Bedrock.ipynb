{
  "nbformat": 4,
  "nbformat_minor": 0,
  "metadata": {
    "colab": {
      "provenance": [],
      "authorship_tag": "ABX9TyPeWBdyWdGqcu0Ug58rYx5Q"
    },
    "kernelspec": {
      "name": "python3",
      "display_name": "Python 3"
    },
    "language_info": {
      "name": "python"
    }
  },
  "cells": [
    {
      "cell_type": "code",
      "execution_count": 84,
      "metadata": {
        "colab": {
          "base_uri": "https://localhost:8080/"
        },
        "id": "YOx-aC1tqO7S",
        "outputId": "f899de70-240d-402b-c1c1-4df5d775ec6f"
      },
      "outputs": [
        {
          "output_type": "stream",
          "name": "stdout",
          "text": [
            "Requirement already satisfied: boto3 in /usr/local/lib/python3.10/dist-packages (1.34.127)\n",
            "Requirement already satisfied: botocore<1.35.0,>=1.34.127 in /usr/local/lib/python3.10/dist-packages (from boto3) (1.34.127)\n",
            "Requirement already satisfied: jmespath<2.0.0,>=0.7.1 in /usr/local/lib/python3.10/dist-packages (from boto3) (1.0.1)\n",
            "Requirement already satisfied: s3transfer<0.11.0,>=0.10.0 in /usr/local/lib/python3.10/dist-packages (from boto3) (0.10.1)\n",
            "Requirement already satisfied: python-dateutil<3.0.0,>=2.1 in /usr/local/lib/python3.10/dist-packages (from botocore<1.35.0,>=1.34.127->boto3) (2.8.2)\n",
            "Requirement already satisfied: urllib3!=2.2.0,<3,>=1.25.4 in /usr/local/lib/python3.10/dist-packages (from botocore<1.35.0,>=1.34.127->boto3) (2.0.7)\n",
            "Requirement already satisfied: six>=1.5 in /usr/local/lib/python3.10/dist-packages (from python-dateutil<3.0.0,>=2.1->botocore<1.35.0,>=1.34.127->boto3) (1.16.0)\n"
          ]
        }
      ],
      "source": [
        "!pip install boto3"
      ]
    },
    {
      "cell_type": "code",
      "source": [
        "extracted_text=\"\"\"Not a Memorial Hospital\n",
        "Of Collier\n",
        "Reg: PN/S/11011, Non-Profit\n",
        "Contact: (999)-(888)-(1234)\n",
        "\n",
        "Physician Hospital Discharge Summary\n",
        "\n",
        "Provider: Mateo Jackson, Phd\n",
        "\n",
        "Patient: John Doe\n",
        "\n",
        "Provider's Pt ID: 00988277891\n",
        "\n",
        "Patient Gender: Male\n",
        "\n",
        "Attachment Control Number: XA/7B/00338763\n",
        "\n",
        "Visit (Encounter)\n",
        "\n",
        "Admitted: 07-Sep-2020\n",
        "\n",
        "Discharged: 08-Sep-2020\n",
        "\n",
        "Discharged to: Home with support services\n",
        "\n",
        "Assessment\n",
        "\n",
        "Reported Symptoms / History\n",
        "of present illness:\n",
        "\n",
        "35 yo M c/o stomach problems since 2 montsh ago. Patient\n",
        "reports epigastric abdominal pain non-radiating. Pain is\n",
        "described as gnawing and burning, intermitent lasting 1-2\n",
        "hours, and gotten progressively worse. Antacids used to\n",
        "alleviate pain but not anymore; nothing exhacerbates pain.\n",
        "Pain unrelated to daytime or to meals. Patient denies\n",
        "constipation or diarrhea. Patient denies blood in stool but\n",
        "have noticed them darker. Patient also reports nausea.\n",
        "Denies recent illness or fever. He also reports fatigue\n",
        "since 2 weeks ago and bloating after eating.\n",
        "Patient ID: NARH-36640\n",
        "ROS: Negative except for above findings\n",
        "Meds: Motrin once/week. Tums previously.\n",
        "PMHX: Back pain and muscle spasms. No HX of surgery. NKDA.\n",
        "FHX: Uncle has a bleeding ulcer.\n",
        "\n",
        "Discharge\n",
        "\n",
        "Discharge Studies Summary:\n",
        "Some activity restrictions suggested, full course of\n",
        "antibiotics, check back with physican in case of relapse,\n",
        "strict diet\n",
        "\n",
        "Social Hx: Smokes since 15 yo, 1/2-1 PPD. No recent EtOH\n",
        "use. Denies illicit drug use. works on high elevation\n",
        "construction. Fast food diet. Exercises 3-4 times/week but\n",
        "stopped 2 weeks ago.\n",
        "\n",
        "VS/3S/Q990-7550/1090001004290\"\"\""
      ],
      "metadata": {
        "id": "HkIkQEbj78zM"
      },
      "execution_count": 92,
      "outputs": []
    },
    {
      "cell_type": "code",
      "source": [
        "input_text=\"\"\"\n",
        "You are a helpful assistant. Please extract the following details from the extracted_text & format the output as JSON using the keys\n",
        "\n",
        "<details>\n",
        "doctor_name: The doctor or provider's full name\n",
        "provider_id: The doctor or provider's ID\n",
        "patient_name: The patient's full name\n",
        "patient_id: The patient's ID\n",
        "patient_gender: The patient's gender\n",
        "patient_age: The patient's age\n",
        "admitted_date: Date the patient was admitted to the hospital\n",
        "discharge_date: Date the patient was discharged from the hospital\n",
        "discharged_to: where the patient was released or discharged to\n",
        "drug_allergies: The patient's known drug allergies (NKDA)\n",
        "patient_medical_history: The patient's medical history (PMHx)\n",
        "family_medical_history: The patient's family medical history (FHx)\n",
        "social_habits: The patient's social habits (Social HX)\n",
        "</details>\n",
        "\n",
        "<keys>\n",
        "doctor_name\n",
        "provider_id\n",
        "patient_name\n",
        "patient_id\n",
        "patient_gender\n",
        "patient_age\n",
        "admitted_date\n",
        "discharge_date\n",
        "discharged_to\n",
        "drug_allergies\n",
        "patient_medical_history\n",
        "family_medical_history\n",
        "social_habits\n",
        "</keys>\n",
        "\n",
        "<extracted_text>\n",
        "{extracted_text}\n",
        "</extracted_text>\n",
        "\"\"\""
      ],
      "metadata": {
        "id": "cDd34fkm8Dgl"
      },
      "execution_count": 122,
      "outputs": []
    },
    {
      "cell_type": "code",
      "source": [
        "import json\n",
        "import boto3\n",
        "client=boto3.client('bedrock-runtime',region_name='us-east-1',aws_access_key_id='{Put your AWS Access Key ID here}',aws_secret_access_key='{Put your AWS Secret Access Key here}')\n",
        "inputText=input_text.format(extracted_text=extracted_text)\n",
        "body_part=json.dumps({'inputText': inputText,\n",
        " 'textGenerationConfig': {'maxTokenCount': 8192,\n",
        "  'stopSequences': [],\n",
        "  'temperature': 0,\n",
        "  'topP': 1}})\n",
        "response = client.invoke_model(\n",
        "    body=body_part,\n",
        "    contentType=\"application/json\",\n",
        "    accept=\"application/json\",\n",
        "    modelId='amazon.titan-text-express-v1'\n",
        ")\n",
        "output_text=json.loads(response['body'].read())['results'][0]['outputText']\n",
        "print(output_text)"
      ],
      "metadata": {
        "colab": {
          "base_uri": "https://localhost:8080/"
        },
        "id": "lef3xPbg-fud",
        "outputId": "89913ff5-a5b3-42d6-86fd-ff5c201e8ff0"
      },
      "execution_count": 123,
      "outputs": [
        {
          "output_type": "stream",
          "name": "stdout",
          "text": [
            "```tabular-data-json\n",
            "{\n",
            "    \"rows\": [\n",
            "        {\n",
            "            \"doctor_name\": \"Mateo Jackson, Phd\",\n",
            "            \"provider_id\": \"00988277891\",\n",
            "            \"patient_name\": \"John Doe\",\n",
            "            \"patient_id\": \"NARH-36640\",\n",
            "            \"patient_gender\": \"Male\",\n",
            "            \"admitted_date\": \"07-Sep-2020\",\n",
            "            \"discharge_date\": \"08-Sep-2020\",\n",
            "            \"discharged_to\": \"Home with support services\",\n",
            "            \"drug_allergies\": \"NKDA\",\n",
            "            \"patient_medical_history\": \"Back pain and muscle spasms. No HX of surgery. \",\n",
            "            \"family_medical_history\": \"Uncle has a bleeding ulcer.\",\n",
            "            \"social_habits\": \"Smokes since 15 yo, 1/2-1 PPD. No recent EtOH use. Denies illicit drug use. works on high elevation construction. Fast food diet. Exercises 3-4 times/week but stopped 2 weeks ago.\"\n",
            "        }\n",
            "    ]\n",
            "}\n",
            "```\n"
          ]
        }
      ]
    },
    {
      "cell_type": "code",
      "source": [
        "print(output_text.strip('```tabular-data-json'))"
      ],
      "metadata": {
        "colab": {
          "base_uri": "https://localhost:8080/"
        },
        "id": "tNtBfiW-leVp",
        "outputId": "26257e3d-321e-42bc-b9c9-e94fdc45c1d5"
      },
      "execution_count": 124,
      "outputs": [
        {
          "output_type": "stream",
          "name": "stdout",
          "text": [
            "\n",
            "{\n",
            "    \"rows\": [\n",
            "        {\n",
            "            \"doctor_name\": \"Mateo Jackson, Phd\",\n",
            "            \"provider_id\": \"00988277891\",\n",
            "            \"patient_name\": \"John Doe\",\n",
            "            \"patient_id\": \"NARH-36640\",\n",
            "            \"patient_gender\": \"Male\",\n",
            "            \"admitted_date\": \"07-Sep-2020\",\n",
            "            \"discharge_date\": \"08-Sep-2020\",\n",
            "            \"discharged_to\": \"Home with support services\",\n",
            "            \"drug_allergies\": \"NKDA\",\n",
            "            \"patient_medical_history\": \"Back pain and muscle spasms. No HX of surgery. \",\n",
            "            \"family_medical_history\": \"Uncle has a bleeding ulcer.\",\n",
            "            \"social_habits\": \"Smokes since 15 yo, 1/2-1 PPD. No recent EtOH use. Denies illicit drug use. works on high elevation construction. Fast food diet. Exercises 3-4 times/week but stopped 2 weeks ago.\"\n",
            "        }\n",
            "    ]\n",
            "}\n",
            "\n"
          ]
        }
      ]
    },
    {
      "cell_type": "code",
      "source": [
        "json.loads(output_text.strip('```tabular-data-json'))['rows'][0]"
      ],
      "metadata": {
        "colab": {
          "base_uri": "https://localhost:8080/"
        },
        "id": "6hqjiDJungmd",
        "outputId": "edff745a-6f94-4009-90de-f4e9cbb232ea"
      },
      "execution_count": 127,
      "outputs": [
        {
          "output_type": "execute_result",
          "data": {
            "text/plain": [
              "{'doctor_name': 'Mateo Jackson, Phd',\n",
              " 'provider_id': '00988277891',\n",
              " 'patient_name': 'John Doe',\n",
              " 'patient_id': 'NARH-36640',\n",
              " 'patient_gender': 'Male',\n",
              " 'admitted_date': '07-Sep-2020',\n",
              " 'discharge_date': '08-Sep-2020',\n",
              " 'discharged_to': 'Home with support services',\n",
              " 'drug_allergies': 'NKDA',\n",
              " 'patient_medical_history': 'Back pain and muscle spasms. No HX of surgery. ',\n",
              " 'family_medical_history': 'Uncle has a bleeding ulcer.',\n",
              " 'social_habits': 'Smokes since 15 yo, 1/2-1 PPD. No recent EtOH use. Denies illicit drug use. works on high elevation construction. Fast food diet. Exercises 3-4 times/week but stopped 2 weeks ago.'}"
            ]
          },
          "metadata": {},
          "execution_count": 127
        }
      ]
    },
    {
      "cell_type": "markdown",
      "source": [
        "# **Prompt Improvement**"
      ],
      "metadata": {
        "id": "okJwrm42nNDq"
      }
    },
    {
      "cell_type": "code",
      "source": [
        "input_text=\"\"\"\n",
        "You are a helpful assistant. Please extract the following details from the extracted_text & format the output as JSON using the keys, return Only Json data within curly brackets, don't put any text other than the data\n",
        "\n",
        "<details>\n",
        "doctor_name: The doctor or provider's full name\n",
        "provider_id: The doctor or provider's ID\n",
        "patient_name: The patient's full name\n",
        "patient_id: The patient's ID\n",
        "patient_gender: The patient's gender\n",
        "patient_age: The patient's age\n",
        "admitted_date: Date the patient was admitted to the hospital\n",
        "discharge_date: Date the patient was discharged from the hospital\n",
        "discharged_to: where the patient was released or discharged to\n",
        "drug_allergies: The patient's known drug allergies (NKDA)\n",
        "patient_medical_history: The patient's medical history (PMHx)\n",
        "family_medical_history: The patient's family medical history (FHx)\n",
        "social_habits: The patient's social habits (Social HX)\n",
        "</details>\n",
        "\n",
        "<keys>\n",
        "doctor_name\n",
        "provider_id\n",
        "patient_name\n",
        "patient_id\n",
        "patient_gender\n",
        "patient_age\n",
        "admitted_date\n",
        "discharge_date\n",
        "discharged_to\n",
        "drug_allergies\n",
        "patient_medical_history\n",
        "family_medical_history\n",
        "social_habits\n",
        "</keys>\n",
        "\n",
        "<extracted_text>\n",
        "{extracted_text}\n",
        "</extracted_text>\n",
        "\"\"\""
      ],
      "metadata": {
        "id": "Kro5o99rnQxl"
      },
      "execution_count": 128,
      "outputs": []
    },
    {
      "cell_type": "code",
      "source": [
        "import json\n",
        "import boto3\n",
        "client=boto3.client('bedrock-runtime',region_name='us-east-1',aws_access_key_id='{Put your AWS Access Key ID here}',aws_secret_access_key='{Put your AWS Secret Access Key here}')\n",
        "inputText=input_text.format(extracted_text=extracted_text)\n",
        "body_part=json.dumps({'inputText': inputText,\n",
        " 'textGenerationConfig': {'maxTokenCount': 8192,\n",
        "  'stopSequences': [],\n",
        "  'temperature': 0,\n",
        "  'topP': 1}})\n",
        "response = client.invoke_model(\n",
        "    body=body_part,\n",
        "    contentType=\"application/json\",\n",
        "    accept=\"application/json\",\n",
        "    modelId='amazon.titan-text-express-v1'\n",
        ")\n",
        "output_text=json.loads(response['body'].read())['results'][0]['outputText']\n",
        "print(output_text)"
      ],
      "metadata": {
        "colab": {
          "base_uri": "https://localhost:8080/"
        },
        "id": "GCGF9y7VnTI3",
        "outputId": "f3cb9b4d-49a2-4f4a-8b1f-addd8bb0faea"
      },
      "execution_count": 129,
      "outputs": [
        {
          "output_type": "stream",
          "name": "stdout",
          "text": [
            "```\n",
            "{\n",
            "    \"doctor_name\": \"Mateo Jackson, Phd\",\n",
            "    \"provider_id\": \"00988277891\",\n",
            "    \"patient_name\": \"John Doe\",\n",
            "    \"patient_id\": \"NARH-36640\",\n",
            "    \"patient_gender\": \"Male\",\n",
            "    \"admitted_date\": \"07-Sep-2020\",\n",
            "    \"discharge_date\": \"08-Sep-2020\",\n",
            "    \"discharged_to\": \"Home with support services\",\n",
            "    \"drug_allergies\": \"NKDA\",\n",
            "    \"patient_medical_history\": \"Back pain and muscle spasms. No HX of surgery.\",\n",
            "    \"family_medical_history\": \"Uncle has a bleeding ulcer.\",\n",
            "    \"social_habits\": \"Smokes since 15 yo, 1/2-1 PPD. No recent EtOH use. Denies illicit drug use. works on high elevation construction. Fast food diet. Exercises 3-4 times/week but stopped 2 weeks ago.\"\n",
            "}\n",
            "```\n"
          ]
        }
      ]
    },
    {
      "cell_type": "code",
      "source": [
        "print(output_text.strip('```'))"
      ],
      "metadata": {
        "colab": {
          "base_uri": "https://localhost:8080/"
        },
        "id": "ZJF6fFZWnWo_",
        "outputId": "c42809d0-85a6-4af0-8f06-8cb45781cc84"
      },
      "execution_count": 130,
      "outputs": [
        {
          "output_type": "stream",
          "name": "stdout",
          "text": [
            "\n",
            "{\n",
            "    \"doctor_name\": \"Mateo Jackson, Phd\",\n",
            "    \"provider_id\": \"00988277891\",\n",
            "    \"patient_name\": \"John Doe\",\n",
            "    \"patient_id\": \"NARH-36640\",\n",
            "    \"patient_gender\": \"Male\",\n",
            "    \"admitted_date\": \"07-Sep-2020\",\n",
            "    \"discharge_date\": \"08-Sep-2020\",\n",
            "    \"discharged_to\": \"Home with support services\",\n",
            "    \"drug_allergies\": \"NKDA\",\n",
            "    \"patient_medical_history\": \"Back pain and muscle spasms. No HX of surgery.\",\n",
            "    \"family_medical_history\": \"Uncle has a bleeding ulcer.\",\n",
            "    \"social_habits\": \"Smokes since 15 yo, 1/2-1 PPD. No recent EtOH use. Denies illicit drug use. works on high elevation construction. Fast food diet. Exercises 3-4 times/week but stopped 2 weeks ago.\"\n",
            "}\n",
            "\n"
          ]
        }
      ]
    }
  ]
}