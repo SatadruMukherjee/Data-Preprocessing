{
  "nbformat": 4,
  "nbformat_minor": 0,
  "metadata": {
    "colab": {
      "provenance": [],
      "authorship_tag": "ABX9TyOVHQq+Baz2iKjbD87oOQB3",
      "include_colab_link": true
    },
    "kernelspec": {
      "name": "python3",
      "display_name": "Python 3"
    },
    "language_info": {
      "name": "python"
    }
  },
  "cells": [
    {
      "cell_type": "markdown",
      "metadata": {
        "id": "view-in-github",
        "colab_type": "text"
      },
      "source": [
        "<a href=\"https://colab.research.google.com/github/SatadruMukherjee/Data-Preprocessing-Models/blob/main/Data_Ingestion_from_GSheet_to_s3.ipynb\" target=\"_parent\"><img src=\"https://colab.research.google.com/assets/colab-badge.svg\" alt=\"Open In Colab\"/></a>"
      ]
    },
    {
      "cell_type": "code",
      "execution_count": null,
      "metadata": {
        "id": "nzsqL_sbGhzp"
      },
      "outputs": [],
      "source": [
        "!pip install pandas gspread google-auth google-auth-oauthlib google-auth-httplib2 boto3"
      ]
    },
    {
      "cell_type": "code",
      "source": [
        "import os.path\n",
        "import pandas as pd\n",
        "from google.auth.transport.requests import Request\n",
        "from google_auth_oauthlib.flow import InstalledAppFlow\n",
        "from googleapiclient.discovery import build\n",
        "from googleapiclient.errors import HttpError\n",
        "from google.oauth2.service_account import Credentials\n",
        "from io import StringIO\n",
        "import boto3"
      ],
      "metadata": {
        "id": "31V0PWGyGkbl"
      },
      "execution_count": null,
      "outputs": []
    },
    {
      "cell_type": "code",
      "source": [
        "# The ID and range of a sample spreadsheet.\n",
        "SAMPLE_SPREADSHEET_ID = \"{}\"\n",
        "\n",
        "scopes = [\n",
        "        'https://www.googleapis.com/auth/spreadsheets',\n",
        "        'https://www.googleapis.com/auth/drive'\n",
        "    ]\n",
        "credentials = Credentials.from_service_account_info({\n",
        "\n",
        "}\n",
        ", scopes=scopes)\n",
        "service = build(\"sheets\", \"v4\", credentials=credentials)\n",
        "sheet = service.spreadsheets()\n",
        "result = (\n",
        "sheet.values()\n",
        ".get(spreadsheetId=SAMPLE_SPREADSHEET_ID,range='{}')\n",
        ".execute()\n",
        ")\n",
        "values = result.get(\"values\", [])\n",
        "values"
      ],
      "metadata": {
        "id": "c1GJ_DWFG9RP"
      },
      "execution_count": null,
      "outputs": []
    },
    {
      "cell_type": "code",
      "source": [
        "df = pd.DataFrame(values[1:], columns=values[0])"
      ],
      "metadata": {
        "id": "19a3S9_gJp76"
      },
      "execution_count": null,
      "outputs": []
    },
    {
      "cell_type": "code",
      "source": [
        "df"
      ],
      "metadata": {
        "id": "_PgBK1DQKaHd"
      },
      "execution_count": null,
      "outputs": []
    },
    {
      "cell_type": "code",
      "source": [
        "# Initialize S3 client\n",
        "s3_client = boto3.client(\n",
        "    \"s3\",\n",
        "    aws_access_key_id='{}',\n",
        "    aws_secret_access_key='{}',\n",
        "    region_name='us-east-1'\n",
        ")\n",
        "\n",
        "# Convert DataFrame to CSV and upload to S3\n",
        "csv_buffer = StringIO()\n",
        "df.to_csv(csv_buffer, index=False)\n",
        "\n",
        "s3_client.put_object(\n",
        "    Bucket='{}',\n",
        "    Key='{}/write_drive_data.csv',\n",
        "    Body=csv_buffer.getvalue()\n",
        ")\n",
        "\n",
        "print(f\"DataFrame successfully uploaded to s3\")"
      ],
      "metadata": {
        "id": "NSCAj0DP9Qah"
      },
      "execution_count": null,
      "outputs": []
    }
  ]
}