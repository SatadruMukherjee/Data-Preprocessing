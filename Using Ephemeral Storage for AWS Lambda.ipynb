{
  "nbformat": 4,
  "nbformat_minor": 0,
  "metadata": {
    "colab": {
      "provenance": [],
      "authorship_tag": "ABX9TyP60RcsP8eeUmco4Mpd8zKn"
    },
    "kernelspec": {
      "name": "python3",
      "display_name": "Python 3"
    },
    "language_info": {
      "name": "python"
    }
  },
  "cells": [
    {
      "cell_type": "code",
      "source": [
        "!pip install boto3 PyPDF2==1.27.8"
      ],
      "metadata": {
        "id": "8Gtz4NTn-wDV"
      },
      "execution_count": null,
      "outputs": []
    },
    {
      "cell_type": "markdown",
      "source": [
        "# **Application of tempfile**"
      ],
      "metadata": {
        "id": "xgTt27w8zZyA"
      }
    },
    {
      "cell_type": "code",
      "execution_count": null,
      "metadata": {
        "id": "j14NmPls1U3N"
      },
      "outputs": [],
      "source": [
        "import tempfile\n",
        "from time import sleep\n",
        "import boto3\n",
        "from PyPDF2 import PdfFileReader"
      ]
    },
    {
      "cell_type": "code",
      "source": [
        "with tempfile.NamedTemporaryFile(delete=True) as tmp_file:\n",
        "  local_filename = tmp_file.name\n",
        "  print(\"The local file created in tmp directory is \",local_filename)\n",
        "  sleep(60)"
      ],
      "metadata": {
        "id": "uvpNew3B_Tpx"
      },
      "execution_count": null,
      "outputs": []
    },
    {
      "cell_type": "code",
      "source": [
        "bucket_name=''\n",
        "s3_file_name=''\n",
        "s3_client=boto3.client('s3',aws_access_key_id='',aws_secret_access_key='',region_name='us-east-1')\n",
        "with tempfile.NamedTemporaryFile(delete=True) as tmp_file:\n",
        "  local_filename = tmp_file.name\n",
        "  print(\"The local file created in tmp directory is \",local_filename)\n",
        "  s3_client.download_file(\n",
        "        Bucket=bucket_name,\n",
        "        Key=s3_file_name,\n",
        "        Filename=local_filename\n",
        "        )\n",
        "  pdf_object=PdfFileReader(local_filename)\n",
        "  no_of_pages=len(pdf_object.pages)\n",
        "  print(\"No. of pages in this pdf file is: \",no_of_pages)\n",
        "  sleep(40)"
      ],
      "metadata": {
        "id": "U3Tebv6_XeqH"
      },
      "execution_count": null,
      "outputs": []
    },
    {
      "cell_type": "markdown",
      "source": [
        "# **Usage in Lambda Function**"
      ],
      "metadata": {
        "id": "63VTnECeliB2"
      }
    },
    {
      "cell_type": "code",
      "source": [
        "import json\n",
        "import tempfile\n",
        "import boto3\n",
        "from PyPDF2 import PdfFileReader\n",
        "s3_client=boto3.client('s3',region_name='us-east-1')\n",
        "\n",
        "def lambda_handler(event, context):\n",
        "    # TODO implement\n",
        "    bucket_name = event[\"Records\"][0][\"s3\"][\"bucket\"][\"name\"]\n",
        "    s3_file_name = event[\"Records\"][0][\"s3\"][\"object\"][\"key\"]\n",
        "    print(\"Bucket : \",bucket_name)\n",
        "    print(\"File Name : \",s3_file_name)\n",
        "    with tempfile.NamedTemporaryFile(delete=True) as tmp_file:\n",
        "        local_filename = tmp_file.name\n",
        "        print(\"The local file : \",local_filename)\n",
        "        s3_client.download_file(\n",
        "        Bucket=bucket_name,\n",
        "        Key=s3_file_name,\n",
        "        Filename=local_filename\n",
        "        )\n",
        "        pdf_object=PdfFileReader(local_filename)\n",
        "        no_of_pages=len(pdf_object.pages)\n",
        "        print(\"No. of pages in this pdf file is: \",no_of_pages)\n",
        "\n",
        "    return {\n",
        "        'statusCode': 200,\n",
        "        'body': json.dumps('Hello from Lambda!')\n",
        "    }"
      ],
      "metadata": {
        "id": "6po00tV4llzi"
      },
      "execution_count": null,
      "outputs": []
    },
    {
      "cell_type": "markdown",
      "source": [
        "# **Application of tempdir**"
      ],
      "metadata": {
        "id": "MobDS2VTzfv2"
      }
    },
    {
      "cell_type": "code",
      "source": [
        "!pip install img2pdf"
      ],
      "metadata": {
        "id": "AvyHEzd90uGW"
      },
      "execution_count": null,
      "outputs": []
    },
    {
      "cell_type": "code",
      "source": [
        "import img2pdf\n",
        "import boto3\n",
        "import tempfile\n",
        "import os\n",
        "from time import sleep\n",
        "bucket_name=''\n",
        "s3_file_name_with_dir=''\n",
        "only_image_file_name=s3_file_name_with_dir.split('/')[-1]\n",
        "s3_client=boto3.client('s3',aws_access_key_id='',aws_secret_access_key='',region_name='us-east-1')\n",
        "\n",
        "tmpdir = tempfile.mkdtemp()\n",
        "image_file = os.path.join(tmpdir, only_image_file_name)\n",
        "print(\"The image file to be written at: \",image_file)\n",
        "s3_client.download_file(\n",
        "        Bucket=bucket_name,\n",
        "        Key=s3_file_name_with_dir,\n",
        "        Filename=image_file\n",
        "        )\n",
        "\n",
        "pdf_file_name=image_file.replace('.JPG','.pdf')\n",
        "print(\"The pdf file to be written at: \",pdf_file_name)\n",
        "with open(pdf_file_name,\"wb\") as f:\n",
        "  f.write(img2pdf.convert(image_file))\n",
        "\n",
        "s3_client.upload_file(pdf_file_name, bucket_name, s3_file_name_with_dir.replace('.JPG','.pdf'))\n",
        "sleep(60)\n",
        "os.remove(image_file)\n",
        "os.remove(pdf_file_name)\n",
        "os.rmdir(tmpdir)"
      ],
      "metadata": {
        "id": "USeZqzdHzYnQ"
      },
      "execution_count": null,
      "outputs": []
    },
    {
      "cell_type": "markdown",
      "source": [
        "# **Usage in Lambda Function**"
      ],
      "metadata": {
        "id": "-c0H5WqDlqKh"
      }
    },
    {
      "cell_type": "code",
      "source": [
        "import json\n",
        "import img2pdf\n",
        "import boto3\n",
        "import tempfile\n",
        "import os\n",
        "from time import sleep\n",
        "s3_client=boto3.client('s3',region_name='us-east-1')\n",
        "\n",
        "def lambda_handler(event, context):\n",
        "    # TODO implement\n",
        "    bucket_name = event[\"Records\"][0][\"s3\"][\"bucket\"][\"name\"]\n",
        "    s3_file_name = event[\"Records\"][0][\"s3\"][\"object\"][\"key\"]\n",
        "    print(\"Bucket : \",bucket_name)\n",
        "    print(\"Landed s3 file : \",s3_file_name)\n",
        "    only_image_file_name=s3_file_name.split('/')[-1]\n",
        "    tmpdir = tempfile.mkdtemp()\n",
        "    image_file = os.path.join(tmpdir, only_image_file_name)\n",
        "    print(\"The image file to be written at: \",image_file)\n",
        "    s3_client.download_file(\n",
        "            Bucket=bucket_name,\n",
        "            Key=s3_file_name,\n",
        "            Filename=image_file\n",
        "            )\n",
        "\n",
        "    pdf_file_name=image_file.replace('.JPG','.pdf')\n",
        "    print(\"The pdf file to be written at: \",pdf_file_name)\n",
        "    with open(pdf_file_name,\"wb\") as f:\n",
        "      f.write(img2pdf.convert(image_file))\n",
        "\n",
        "    s3_client.upload_file(pdf_file_name, bucket_name, s3_file_name.replace('.JPG','.pdf'))\n",
        "    sleep(30)\n",
        "    os.remove(image_file)\n",
        "    os.remove(pdf_file_name)\n",
        "    os.rmdir(tmpdir)\n",
        "\n",
        "    return {\n",
        "        'statusCode': 200,\n",
        "        'body': json.dumps('Hello from Lambda!')\n",
        "    }"
      ],
      "metadata": {
        "id": "s39ySDAelp8a"
      },
      "execution_count": null,
      "outputs": []
    }
  ]
}