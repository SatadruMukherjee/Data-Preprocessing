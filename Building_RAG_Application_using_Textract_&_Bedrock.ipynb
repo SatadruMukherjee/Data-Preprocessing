{
  "nbformat": 4,
  "nbformat_minor": 0,
  "metadata": {
    "colab": {
      "provenance": [],
      "authorship_tag": "ABX9TyObPkTXnix/e4iNi4Ja5IhQ"
    },
    "kernelspec": {
      "name": "python3",
      "display_name": "Python 3"
    },
    "language_info": {
      "name": "python"
    }
  },
  "cells": [
    {
      "cell_type": "code",
      "execution_count": null,
      "metadata": {
        "id": "CyD_g6TaVpqb"
      },
      "outputs": [],
      "source": [
        "!pip install boto3 langchain langchain-pinecone"
      ]
    },
    {
      "cell_type": "code",
      "source": [
        "import boto3\n",
        "client=boto3.client('textract',aws_access_key_id='',aws_secret_access_key='',region_name='us-east-1')\n",
        "response = client.detect_document_text(\n",
        "    Document={\n",
        "        'S3Object': {\n",
        "            'Bucket': '',\n",
        "            'Name': ''\n",
        "        }\n",
        "    }\n",
        ")"
      ],
      "metadata": {
        "id": "la90obRLeVCZ"
      },
      "execution_count": null,
      "outputs": []
    },
    {
      "cell_type": "code",
      "source": [
        "output_file_name='demo_rag_on_image.txt'"
      ],
      "metadata": {
        "id": "GdBL2EsZcNJv"
      },
      "execution_count": null,
      "outputs": []
    },
    {
      "cell_type": "code",
      "source": [
        "with open(output_file_name,'w') as output_file_io:\n",
        "  for x in response[\"Blocks\"]:\n",
        "    if x[\"BlockType\"] == \"LINE\":\n",
        "      output_file_io.write(x[\"Text\"]+'\\n')"
      ],
      "metadata": {
        "id": "KqyQkTw4fwCu"
      },
      "execution_count": null,
      "outputs": []
    },
    {
      "cell_type": "code",
      "source": [
        "import os\n",
        "import json\n",
        "boto3_bedrock = boto3.client('bedrock-runtime',region_name='',aws_access_key_id='',aws_secret_access_key='')"
      ],
      "metadata": {
        "id": "ZA751JP5bqh9"
      },
      "execution_count": null,
      "outputs": []
    },
    {
      "cell_type": "code",
      "source": [
        "from langchain.docstore.document import Document\n",
        "from langchain.document_loaders import TextLoader\n",
        "from langchain.embeddings import BedrockEmbeddings\n",
        "from langchain.text_splitter import CharacterTextSplitter"
      ],
      "metadata": {
        "id": "egUv0sj7b8I-"
      },
      "execution_count": null,
      "outputs": []
    },
    {
      "cell_type": "code",
      "source": [
        "# load the sagemaker FAQ list\n",
        "with open('') as f:\n",
        "    doc = f.read()\n",
        "\n",
        "# create a loader\n",
        "docs = []\n",
        "loader = TextLoader('')\n",
        "docs.append(Document(page_content=doc))\n",
        "\n",
        "# split documents into chunks\n",
        "text_splitter = CharacterTextSplitter(\n",
        "    separator='\\n',\n",
        "    chunk_size=300,\n",
        "    chunk_overlap=25,\n",
        "\n",
        ")\n",
        "split_docs = text_splitter.split_documents(docs)"
      ],
      "metadata": {
        "id": "2fHe48atcCqn"
      },
      "execution_count": null,
      "outputs": []
    },
    {
      "cell_type": "code",
      "source": [
        "split_docs"
      ],
      "metadata": {
        "id": "ygxuBYVidA4i"
      },
      "execution_count": null,
      "outputs": []
    },
    {
      "cell_type": "code",
      "source": [
        "os.environ['PINECONE_API_KEY']=''"
      ],
      "metadata": {
        "id": "AapUMPBadOY4"
      },
      "execution_count": null,
      "outputs": []
    },
    {
      "cell_type": "code",
      "source": [
        "embedding_model = BedrockEmbeddings(\n",
        "    client=boto3_bedrock,\n",
        "    model_id=\"amazon.titan-embed-text-v1\"\n",
        ")\n",
        "from langchain_pinecone import PineconeVectorStore\n",
        "\n",
        "index_name = \"demoyttextract\"\n",
        "\n",
        "docsearch = PineconeVectorStore.from_documents(split_docs, embedding_model, index_name=index_name)"
      ],
      "metadata": {
        "id": "fKZFY04zdRsO"
      },
      "execution_count": null,
      "outputs": []
    },
    {
      "cell_type": "code",
      "source": [],
      "metadata": {
        "id": "7mTJurKKdp11"
      },
      "execution_count": null,
      "outputs": []
    },
    {
      "cell_type": "code",
      "source": [],
      "metadata": {
        "id": "pbZJhoq-dpwl"
      },
      "execution_count": null,
      "outputs": []
    },
    {
      "cell_type": "code",
      "source": [
        "from langchain import PromptTemplate\n",
        "\n",
        "RAG_PROMPT_TEMPLATE = '''Here is some important context which can help inform the questions the Human asks.\n",
        "Make sure to not make anything up to answer the question if it is not provided in the context.\n",
        "\n",
        "\n",
        "{context}\n",
        "\n",
        "\n",
        "Human: {human_input}\n",
        "\n",
        "Assistant:\n",
        "'''\n",
        "PROMPT = PromptTemplate.from_template(RAG_PROMPT_TEMPLATE)"
      ],
      "metadata": {
        "id": "bzr6ctO7dprr"
      },
      "execution_count": null,
      "outputs": []
    },
    {
      "cell_type": "code",
      "source": [
        "from langchain.vectorstores import Pinecone\n",
        "existing_search = Pinecone.from_existing_index(index_name=index_name, embedding=embedding_model)"
      ],
      "metadata": {
        "id": "PR66hL44egnD"
      },
      "execution_count": null,
      "outputs": []
    },
    {
      "cell_type": "code",
      "source": [
        "human_input = input(\"Enter your question : \")\n",
        "search_results = existing_search.similarity_search(human_input, k=3)\n",
        "context_string = '\\n\\n'.join([f'Document {ind+1}: ' + i.page_content for ind, i in enumerate(search_results)])\n",
        "prompt_data = PROMPT.format(human_input=human_input, context=context_string)\n",
        "inputText=prompt_data\n",
        "body_part=json.dumps({'inputText': inputText,\n",
        " 'textGenerationConfig': {'maxTokenCount': 8192,\n",
        "  'stopSequences': [],\n",
        "  'temperature': 0,\n",
        "  'topP': 1}})\n",
        "response = boto3_bedrock.invoke_model(\n",
        "    body=body_part,\n",
        "    contentType=\"application/json\",\n",
        "    accept=\"application/json\",\n",
        "    modelId='amazon.titan-text-express-v1'\n",
        ")\n",
        "output_text=json.loads(response['body'].read())['results'][0]['outputText']\n",
        "output_text"
      ],
      "metadata": {
        "id": "Gd47uueKdwOO"
      },
      "execution_count": null,
      "outputs": []
    }
  ]
}