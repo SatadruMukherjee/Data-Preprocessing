{
  "cells": [
    {
      "cell_type": "code",
      "execution_count": null,
      "metadata": {
        "id": "6qdyU3zRmz4K",
        "outputId": "12794381-2cfe-4fb9-f8c8-5dd6a58fe829",
        "colab": {
          "referenced_widgets": [
            "36c9b6c1a5af4f208080449d9b99c5a2"
          ]
        }
      },
      "outputs": [
        {
          "name": "stdout",
          "output_type": "stream",
          "text": [
            "Calculation started (calculation_id=74c72ac8-4151-a932-1d9d-f66cdb8696c6) in (session=66c72ac8-2423-fcad-e8fe-1b8214841318). Checking calculation status...\n"
          ]
        },
        {
          "data": {
            "application/vnd.jupyter.widget-view+json": {
              "model_id": "36c9b6c1a5af4f208080449d9b99c5a2",
              "version_major": 2,
              "version_minor": 0
            },
            "text/plain": [
              "Progress:   0%|          |elapsed time = 00:00s"
            ]
          },
          "metadata": {},
          "output_type": "display_data"
        },
        {
          "name": "stdout",
          "output_type": "stream",
          "text": [
            "Calculation completed.\n"
          ]
        }
      ],
      "source": [
        "df=spark.read.format('csv').option('header',True).load('s3://deloittesalarybucket/multiplesmalldataset/')"
      ]
    },
    {
      "cell_type": "code",
      "execution_count": null,
      "metadata": {
        "id": "Y7rsRScQmz4N",
        "outputId": "b2e12e82-8abd-4863-efa2-eaa08f32e8f8",
        "colab": {
          "referenced_widgets": [
            "d57db86fd8bf45928614363caa7833a1"
          ]
        }
      },
      "outputs": [
        {
          "name": "stdout",
          "output_type": "stream",
          "text": [
            "Calculation started (calculation_id=ccc72ac9-94e6-4e59-4a91-82a37be61c0d) in (session=66c72ac8-2423-fcad-e8fe-1b8214841318). Checking calculation status...\n"
          ]
        },
        {
          "data": {
            "application/vnd.jupyter.widget-view+json": {
              "model_id": "d57db86fd8bf45928614363caa7833a1",
              "version_major": 2,
              "version_minor": 0
            },
            "text/plain": [
              "Progress:   0%|          |elapsed time = 00:00s"
            ]
          },
          "metadata": {},
          "output_type": "display_data"
        },
        {
          "name": "stdout",
          "output_type": "stream",
          "text": [
            "Calculation completed.\n",
            "17002\n",
            "\n"
          ]
        }
      ],
      "source": [
        "df.count()"
      ]
    },
    {
      "cell_type": "code",
      "execution_count": null,
      "metadata": {
        "id": "Px9VkoOkmz4O",
        "outputId": "94e401bd-bb8a-44ab-c97b-4e116f1a1bfc",
        "colab": {
          "referenced_widgets": [
            "5ebb809f627c420195684e221bd32c6c"
          ]
        }
      },
      "outputs": [
        {
          "name": "stdout",
          "output_type": "stream",
          "text": [
            "Calculation started (calculation_id=40c72ac8-6d3f-6eca-23d7-2c0a13b3c401) in (session=66c72ac8-2423-fcad-e8fe-1b8214841318). Checking calculation status...\n"
          ]
        },
        {
          "data": {
            "application/vnd.jupyter.widget-view+json": {
              "model_id": "5ebb809f627c420195684e221bd32c6c",
              "version_major": 2,
              "version_minor": 0
            },
            "text/plain": [
              "Progress:   0%|          |elapsed time = 00:00s"
            ]
          },
          "metadata": {},
          "output_type": "display_data"
        },
        {
          "name": "stdout",
          "output_type": "stream",
          "text": [
            "Calculation completed.\n"
          ]
        }
      ],
      "source": [
        "import boto3\n",
        "import json\n",
        "import math\n",
        "session = boto3.Session(region_name='us-east-1')\n",
        "s3_client = session.client('s3')"
      ]
    },
    {
      "cell_type": "code",
      "execution_count": null,
      "metadata": {
        "id": "hAcUn1v0mz4O",
        "outputId": "ea651498-68ee-4ca3-94cb-2295eb14bdb2",
        "colab": {
          "referenced_widgets": [
            "f9519af4c8134915bd24acf0ccd0d325"
          ]
        }
      },
      "outputs": [
        {
          "name": "stdout",
          "output_type": "stream",
          "text": [
            "Calculation started (calculation_id=02c72ac8-7293-7716-a104-ddc19622ef59) in (session=66c72ac8-2423-fcad-e8fe-1b8214841318). Checking calculation status...\n"
          ]
        },
        {
          "data": {
            "application/vnd.jupyter.widget-view+json": {
              "model_id": "f9519af4c8134915bd24acf0ccd0d325",
              "version_major": 2,
              "version_minor": 0
            },
            "text/plain": [
              "Progress:   0%|          |elapsed time = 00:00s"
            ]
          },
          "metadata": {},
          "output_type": "display_data"
        },
        {
          "name": "stdout",
          "output_type": "stream",
          "text": [
            "Calculation completed.\n"
          ]
        }
      ],
      "source": [
        "def get_partition_num_and_size(bucket, prefix):\n",
        "    keys = []\n",
        "    list_objects_v2_paginator = s3_client.get_paginator('list_objects_v2')\n",
        "    for s3_list_page in list_objects_v2_paginator.paginate(Bucket=bucket, Prefix=prefix):\n",
        "        keys.extend(s3_list_page['Contents'])\n",
        "    partition_size_in_bytes = 0\n",
        "    partition_file_num = 0\n",
        "    for key in keys:\n",
        "        if not key['Key'].endswith('/'):\n",
        "            file_size_in_bytes = int(key['Size'])\n",
        "            partition_size_in_bytes += file_size_in_bytes\n",
        "            partition_file_num += 1\n",
        "\n",
        "    return partition_file_num, partition_size_in_bytes"
      ]
    },
    {
      "cell_type": "code",
      "execution_count": null,
      "metadata": {
        "id": "m0ufoMvRmz4O",
        "outputId": "bd595f8c-e0d5-4abd-8777-277d4dba7998",
        "colab": {
          "referenced_widgets": [
            "f749fbe6491b481cac60e1ed14c6204d"
          ]
        }
      },
      "outputs": [
        {
          "name": "stdout",
          "output_type": "stream",
          "text": [
            "Calculation started (calculation_id=48c72ac8-afe7-2cd2-044f-f6af02fac91d) in (session=66c72ac8-2423-fcad-e8fe-1b8214841318). Checking calculation status...\n"
          ]
        },
        {
          "data": {
            "application/vnd.jupyter.widget-view+json": {
              "model_id": "f749fbe6491b481cac60e1ed14c6204d",
              "version_major": 2,
              "version_minor": 0
            },
            "text/plain": [
              "Progress:   0%|          |elapsed time = 00:00s"
            ]
          },
          "metadata": {},
          "output_type": "display_data"
        },
        {
          "name": "stdout",
          "output_type": "stream",
          "text": [
            "Calculation completed.\n"
          ]
        }
      ],
      "source": [
        "bucket='deloittesalarybucket'\n",
        "prefix='multiplesmalldataset'\n",
        "desired_size_in_bytes=1707008"
      ]
    },
    {
      "cell_type": "code",
      "source": [
        "3/2"
      ],
      "metadata": {
        "id": "LRBkpzHVjV6i",
        "outputId": "85906bcf-ecbe-4d77-d1e1-07f4af7ce125",
        "colab": {
          "base_uri": "https://localhost:8080/"
        }
      },
      "execution_count": null,
      "outputs": [
        {
          "output_type": "execute_result",
          "data": {
            "text/plain": [
              "1.5"
            ]
          },
          "metadata": {},
          "execution_count": 1
        }
      ]
    },
    {
      "cell_type": "code",
      "execution_count": null,
      "metadata": {
        "id": "MMkVmlbYmz4P",
        "outputId": "2e270b5e-bf21-40b3-8618-447a598f6f56",
        "colab": {
          "referenced_widgets": [
            "f81a7f8150e5419cb781675e0511e54d"
          ]
        }
      },
      "outputs": [
        {
          "name": "stdout",
          "output_type": "stream",
          "text": [
            "Calculation started (calculation_id=92c72ac8-b9a1-fd78-95fe-d51429b62990) in (session=66c72ac8-2423-fcad-e8fe-1b8214841318). Checking calculation status...\n"
          ]
        },
        {
          "data": {
            "application/vnd.jupyter.widget-view+json": {
              "model_id": "f81a7f8150e5419cb781675e0511e54d",
              "version_major": 2,
              "version_minor": 0
            },
            "text/plain": [
              "Progress:   0%|          |elapsed time = 00:00s"
            ]
          },
          "metadata": {},
          "output_type": "display_data"
        },
        {
          "name": "stdout",
          "output_type": "stream",
          "text": [
            "Calculation completed.\n"
          ]
        }
      ],
      "source": [
        "def compaction():\n",
        "    # Calculate partition details\n",
        "    partition_file_num, partition_size_in_bytes = get_partition_num_and_size(bucket, prefix)\n",
        "    average_file_size_in_bytes = partition_size_in_bytes / partition_file_num\n",
        "\n",
        "    # Calculate optimal file count based on desired size\n",
        "    optimal_file_num = math.floor(float(partition_size_in_bytes) / desired_size_in_bytes)\n",
        "    print(\"optimal_file_num\",optimal_file_num)\n",
        "    # Check if average file size is less than desired size\n",
        "    if average_file_size_in_bytes < desired_size_in_bytes:\n",
        "        # Coalesce DataFrame to optimal file count\n",
        "        df = spark.read.format('csv').option('header',True).load('s3://deloittesalarybucket/multiplesmalldataset/')\n",
        "        df.repartition(optimal_file_num).write.mode('overwrite').format('csv').option('header',True). \\\n",
        "        save('s3://deloittesalarybucket/largedataset/')"
      ]
    },
    {
      "cell_type": "code",
      "execution_count": null,
      "metadata": {
        "id": "xFOz5azVmz4P",
        "outputId": "8fd55fd6-287d-4ccc-bc24-e6beb6f180bc",
        "colab": {
          "referenced_widgets": [
            "a9da1e966b1c4ba1a9d5b4f955a566a7"
          ]
        }
      },
      "outputs": [
        {
          "name": "stdout",
          "output_type": "stream",
          "text": [
            "Calculation started (calculation_id=96c72ac8-c0eb-8455-3059-f2f3634cbdfa) in (session=66c72ac8-2423-fcad-e8fe-1b8214841318). Checking calculation status...\n"
          ]
        },
        {
          "data": {
            "application/vnd.jupyter.widget-view+json": {
              "model_id": "a9da1e966b1c4ba1a9d5b4f955a566a7",
              "version_major": 2,
              "version_minor": 0
            },
            "text/plain": [
              "Progress:   0%|          |elapsed time = 00:00s"
            ]
          },
          "metadata": {},
          "output_type": "display_data"
        },
        {
          "name": "stdout",
          "output_type": "stream",
          "text": [
            "Calculation completed.\n",
            "optimal_file_num 1\n",
            "\n"
          ]
        }
      ],
      "source": [
        "compaction()"
      ]
    },
    {
      "cell_type": "code",
      "execution_count": null,
      "metadata": {
        "id": "h_Z7tDX7mz4Q",
        "outputId": "dd553a90-3257-4f4a-b812-0a1aecd411a8",
        "colab": {
          "referenced_widgets": [
            "f1ea7b18cb6d4bc18ac025ebcbae1e77"
          ]
        }
      },
      "outputs": [
        {
          "name": "stdout",
          "output_type": "stream",
          "text": [
            "Calculation started (calculation_id=e4c72ac8-eb3d-a947-40fc-ee0542225ace) in (session=66c72ac8-2423-fcad-e8fe-1b8214841318). Checking calculation status...\n"
          ]
        },
        {
          "data": {
            "application/vnd.jupyter.widget-view+json": {
              "model_id": "f1ea7b18cb6d4bc18ac025ebcbae1e77",
              "version_major": 2,
              "version_minor": 0
            },
            "text/plain": [
              "Progress:   0%|          |elapsed time = 00:00s"
            ]
          },
          "metadata": {},
          "output_type": "display_data"
        },
        {
          "name": "stdout",
          "output_type": "stream",
          "text": [
            "Calculation completed.\n"
          ]
        }
      ],
      "source": [
        "df2=spark.read.format('csv').option('header',True).load('s3://deloittesalarybucket/largedataset/')"
      ]
    },
    {
      "cell_type": "code",
      "execution_count": null,
      "metadata": {
        "id": "EUSVPZ0hmz4Q",
        "outputId": "72d13bff-3309-4b6c-bbe3-ca52e915bd85",
        "colab": {
          "referenced_widgets": [
            "47c130d8e6d142d8a967bc9fe1b49c6e"
          ]
        }
      },
      "outputs": [
        {
          "name": "stdout",
          "output_type": "stream",
          "text": [
            "Calculation started (calculation_id=f0c72ac9-0181-987b-6cfe-a8b10bbdf396) in (session=66c72ac8-2423-fcad-e8fe-1b8214841318). Checking calculation status...\n"
          ]
        },
        {
          "data": {
            "application/vnd.jupyter.widget-view+json": {
              "model_id": "47c130d8e6d142d8a967bc9fe1b49c6e",
              "version_major": 2,
              "version_minor": 0
            },
            "text/plain": [
              "Progress:   0%|          |elapsed time = 00:00s"
            ]
          },
          "metadata": {},
          "output_type": "display_data"
        },
        {
          "name": "stdout",
          "output_type": "stream",
          "text": [
            "Calculation completed.\n",
            "17002\n",
            "\n"
          ]
        }
      ],
      "source": [
        "df2.count()"
      ]
    },
    {
      "cell_type": "code",
      "execution_count": null,
      "metadata": {
        "id": "Gwt-gV8Tmz4Q"
      },
      "outputs": [],
      "source": []
    }
  ],
  "metadata": {
    "kernelspec": {
      "display_name": "Athena PySpark",
      "language": "python",
      "name": "kepler_python_kernel"
    },
    "language_info": {
      "codemirror_mode": {
        "name": "python",
        "version": 3
      },
      "file_extension": ".py",
      "mimetype": "text/x-python",
      "name": "Python_Session",
      "pygments_lexer": "python3"
    },
    "colab": {
      "provenance": []
    }
  },
  "nbformat": 4,
  "nbformat_minor": 0
}