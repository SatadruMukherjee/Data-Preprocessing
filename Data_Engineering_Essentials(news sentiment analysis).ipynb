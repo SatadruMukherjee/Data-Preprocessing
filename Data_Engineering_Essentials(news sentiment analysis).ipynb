{
  "nbformat": 4,
  "nbformat_minor": 0,
  "metadata": {
    "colab": {
      "provenance": [],
      "authorship_tag": "ABX9TyPui2fXrQdS/nis2QPVC9D2",
      "include_colab_link": true
    },
    "kernelspec": {
      "name": "python3",
      "display_name": "Python 3"
    },
    "language_info": {
      "name": "python"
    }
  },
  "cells": [
    {
      "cell_type": "markdown",
      "metadata": {
        "id": "view-in-github",
        "colab_type": "text"
      },
      "source": [
        "<a href=\"https://colab.research.google.com/github/SatadruMukherjee/Data-Preprocessing-Models/blob/main/Data_Engineering_Essentials(news%20sentiment%20analysis).ipynb\" target=\"_parent\"><img src=\"https://colab.research.google.com/assets/colab-badge.svg\" alt=\"Open In Colab\"/></a>"
      ]
    },
    {
      "cell_type": "markdown",
      "source": [
        "# **[Fetch Data from an API](https://requests.readthedocs.io/en/latest/)**"
      ],
      "metadata": {
        "id": "iF49wD_Hywhd"
      }
    },
    {
      "cell_type": "code",
      "execution_count": null,
      "metadata": {
        "id": "EpY21caVdUwi"
      },
      "outputs": [],
      "source": [
        "!pip install requests"
      ]
    },
    {
      "cell_type": "code",
      "source": [
        "import requests"
      ],
      "metadata": {
        "id": "riGdBeLmdYe7"
      },
      "execution_count": null,
      "outputs": []
    },
    {
      "cell_type": "code",
      "source": [
        "payload = {\"dx_hcc\": \"dx\", \"dos_year\": \"v24_2022\", \"drf\": \"CNA\", \"search\": \"I50814\", \"start\": 0}"
      ],
      "metadata": {
        "id": "lhrmYjn_dZvu"
      },
      "execution_count": null,
      "outputs": []
    },
    {
      "cell_type": "code",
      "source": [
        "response = requests.post(url = 'https://www.hccreference.com/api/search',headers={\"content-type\":\"application/json\"},json =payload)"
      ],
      "metadata": {
        "id": "HdchjHWOd2LA"
      },
      "execution_count": null,
      "outputs": []
    },
    {
      "cell_type": "code",
      "source": [
        "response.text"
      ],
      "metadata": {
        "id": "cyGnBIaseCpx"
      },
      "execution_count": null,
      "outputs": []
    },
    {
      "cell_type": "markdown",
      "source": [
        "# **News Sentiment Analysis**"
      ],
      "metadata": {
        "id": "uYoESOrLzFdd"
      }
    },
    {
      "cell_type": "markdown",
      "source": [
        "https://newsapi.org/\n",
        "\n",
        "https://signup.snowflake.com/"
      ],
      "metadata": {
        "id": "rJWvDUaJzkYQ"
      }
    },
    {
      "cell_type": "code",
      "source": [
        "!pip install snowflake-connector-python"
      ],
      "metadata": {
        "id": "TXacvsnkiLUS"
      },
      "execution_count": null,
      "outputs": []
    },
    {
      "cell_type": "code",
      "source": [
        "#data extraction & transformation\n",
        "import json\n",
        "import requests\n",
        "import datetime\n",
        "from datetime import date\n",
        "\n",
        "# Your News API key\n",
        "api_key = '{Put your API Key here}'\n",
        "\n",
        "end_day = date.today()\n",
        "start_day = today - datetime.timedelta(days=3)\n",
        "\n",
        "def extract_news_api():\n",
        "    url_extractor = f\"https://newsapi.org/v2/everything?q='USA Election'&from={start_day}&to={end_day}&sortBy=popularity&apiKey={api_key}&language=en\"\n",
        "    print(\"The URL to extract the data is: \", url_extractor)\n",
        "    response = requests.get(url_extractor)\n",
        "    data = response.json()\n",
        "\n",
        "    if data['status'] == 'ok':\n",
        "        news_data = []\n",
        "        for article in data['articles']:\n",
        "            news_title = article['title']\n",
        "            timestamp = article['publishedAt']\n",
        "            url_source = article['url']\n",
        "            partial_content = article['content'] or \"\"\n",
        "\n",
        "            if len(partial_content) >= 200:\n",
        "                partial_content = partial_content[:199]\n",
        "\n",
        "            if '.' in partial_content:\n",
        "                trimmed_part = partial_content[:partial_content.rindex('.')]\n",
        "            else:\n",
        "                trimmed_part = partial_content\n",
        "\n",
        "            news_data.append((news_title, timestamp, url_source, trimmed_part))\n",
        "\n",
        "        return news_data"
      ],
      "metadata": {
        "id": "mFpkkqjDjFyW"
      },
      "execution_count": null,
      "outputs": []
    },
    {
      "cell_type": "code",
      "source": [
        "news_data=extract_news_api()"
      ],
      "metadata": {
        "id": "X47tOykZjRBp"
      },
      "execution_count": null,
      "outputs": []
    },
    {
      "cell_type": "code",
      "source": [
        "news_data"
      ],
      "metadata": {
        "id": "XkCw_Je8jXfI"
      },
      "execution_count": null,
      "outputs": []
    },
    {
      "cell_type": "code",
      "source": [
        "#loading data in Snowflake\n",
        "import snowflake.connector\n",
        "\n",
        "# Replace with your actual Snowflake credentials\n",
        "SNOWFLAKE_ACCOUNT = ''\n",
        "SNOWFLAKE_USER = ''\n",
        "SNOWFLAKE_PASSWORD = ''\n",
        "SNOWFLAKE_DATABASE = ''\n",
        "SNOWFLAKE_SCHEMA = ''\n",
        "SNOWFLAKE_TABLE = ''\n",
        "SNOWFLAKE_WAREHOUSE = ''\n",
        "\n",
        "def load_data_to_snowflake(data):\n",
        "    conn = snowflake.connector.connect(\n",
        "        user=SNOWFLAKE_USER,\n",
        "        password=SNOWFLAKE_PASSWORD,\n",
        "        account=SNOWFLAKE_ACCOUNT,\n",
        "        warehouse=SNOWFLAKE_WAREHOUSE,\n",
        "        database=SNOWFLAKE_DATABASE,\n",
        "        schema=SNOWFLAKE_SCHEMA\n",
        "    )\n",
        "\n",
        "    cursor = conn.cursor()\n",
        "\n",
        "    # Assuming the table has columns: TITLE, TIMESTAMP, URL, CONTENT\n",
        "    insert_query = f\"\"\"\n",
        "    INSERT INTO {SNOWFLAKE_TABLE} (TITLE, TIMESTAMP, URL, CONTENT)\n",
        "    VALUES (%s, %s, %s, %s)\n",
        "    \"\"\"\n",
        "\n",
        "    try:\n",
        "        cursor.executemany(insert_query, data)\n",
        "        conn.commit()\n",
        "        print(f\"{len(data)} rows inserted successfully.\")\n",
        "    except Exception as e:\n",
        "        print(\"Error inserting data:\", e)\n",
        "    finally:\n",
        "        cursor.close()\n",
        "        conn.close()\n",
        "\n",
        "if __name__ == \"__main__\":\n",
        "    news_data = extract_news_api()\n",
        "    if news_data:\n",
        "        load_data_to_snowflake(news_data)\n"
      ],
      "metadata": {
        "id": "Y4NZ75XAiLRm"
      },
      "execution_count": null,
      "outputs": []
    }
  ]
}