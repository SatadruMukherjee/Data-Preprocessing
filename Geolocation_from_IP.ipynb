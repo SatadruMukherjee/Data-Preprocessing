{
  "nbformat": 4,
  "nbformat_minor": 0,
  "metadata": {
    "colab": {
      "provenance": [],
      "authorship_tag": "ABX9TyMeWIuDcO1FM9I+cdmOIWqx"
    },
    "kernelspec": {
      "name": "python3",
      "display_name": "Python 3"
    },
    "language_info": {
      "name": "python"
    }
  },
  "cells": [
    {
      "cell_type": "markdown",
      "source": [
        "# **Resources**"
      ],
      "metadata": {
        "id": "l1rfOxVLKdoX"
      }
    },
    {
      "cell_type": "markdown",
      "source": [
        "* [ipinfo](https://ipinfo.io/)\n",
        "\n",
        "* [Country Code](https://country.io/names.json?ref=ipinfo.io)\n",
        "\n",
        "* [Json Formatter](https://jsonformatter.curiousconcept.com/#)\n",
        "\n",
        "\n"
      ],
      "metadata": {
        "id": "q0RwkuBsKL5h"
      }
    },
    {
      "cell_type": "code",
      "source": [
        "import json\n",
        "import requests"
      ],
      "metadata": {
        "id": "9XVg9L01HV44"
      },
      "execution_count": null,
      "outputs": []
    },
    {
      "cell_type": "code",
      "execution_count": null,
      "metadata": {
        "id": "IrZEkSwQHKyH"
      },
      "outputs": [],
      "source": [
        "def geolocation(public_ip):\n",
        "\turl = \"http://ipinfo.io/\"+ public_ip\n",
        "\tresponse = requests.get(url)\n",
        "\tdata = json.loads(response.text)\n",
        "\tprint(data)"
      ]
    },
    {
      "cell_type": "code",
      "source": [
        "public_ip='{Put your IP here}'"
      ],
      "metadata": {
        "id": "6M7wmQqzHfM2"
      },
      "execution_count": null,
      "outputs": []
    },
    {
      "cell_type": "code",
      "source": [
        "geolocation(public_ip)"
      ],
      "metadata": {
        "id": "Yl7RkWMXHcen"
      },
      "execution_count": null,
      "outputs": []
    },
    {
      "cell_type": "markdown",
      "source": [
        "# **Lambda Function**"
      ],
      "metadata": {
        "id": "qyJuBky0J_LR"
      }
    },
    {
      "cell_type": "code",
      "source": [
        "import json\n",
        "import requests\n",
        "def geolocation(public_ip):\n",
        "\turl = \"http://ipinfo.io/\"+ public_ip\n",
        "\tresponse = requests.get(url)\n",
        "\tdata = json.loads(response.text)\n",
        "\treturn data\n",
        "\n",
        "def lambda_handler(event, context):\n",
        "    # TODO implement\n",
        "    print(event)\n",
        "    source_ip=event['requestContext']['http']['sourceIp']\n",
        "    response=geolocation(source_ip)\n",
        "    print(\"Response: \",response)"
      ],
      "metadata": {
        "id": "AkMAy9M2KBnu"
      },
      "execution_count": null,
      "outputs": []
    }
  ]
}