{
  "nbformat": 4,
  "nbformat_minor": 0,
  "metadata": {
    "colab": {
      "provenance": [],
      "authorship_tag": "ABX9TyMC8x+t5ojmOvhyzoCu1KA6",
      "include_colab_link": true
    },
    "kernelspec": {
      "name": "python3",
      "display_name": "Python 3"
    },
    "language_info": {
      "name": "python"
    }
  },
  "cells": [
    {
      "cell_type": "markdown",
      "metadata": {
        "id": "view-in-github",
        "colab_type": "text"
      },
      "source": [
        "<a href=\"https://colab.research.google.com/github/SatadruMukherjee/Data-Preprocessing-Models/blob/main/RAG%20using%20Kendra%20%26%20Langchain%20AWS.ipynb\" target=\"_parent\"><img src=\"https://colab.research.google.com/assets/colab-badge.svg\" alt=\"Open In Colab\"/></a>"
      ]
    },
    {
      "cell_type": "code",
      "execution_count": null,
      "metadata": {
        "id": "tAPKj2yh_frr"
      },
      "outputs": [],
      "source": [
        "!pip install boto3 langchain langchain-pinecone\n"
      ]
    },
    {
      "cell_type": "code",
      "source": [
        "import boto3\n",
        "import os\n",
        "\n",
        "\n",
        "boto3_bedrock = boto3.client('bedrock-runtime',region_name='us-east-1',aws_access_key_id='',aws_secret_access_key='')\n",
        "\n",
        "kendra_client=boto3.client('kendra',region_name='us-east-1',aws_access_key_id='',aws_secret_access_key='')"
      ],
      "metadata": {
        "id": "d61bXvX_GDDe"
      },
      "execution_count": null,
      "outputs": []
    },
    {
      "cell_type": "code",
      "source": [
        "from langchain_community.retrievers import AmazonKendraRetriever\n",
        "\n",
        "retriever = AmazonKendraRetriever(index_id=\"d0215a1d-87f2-41de-906f-edd13da9fb62\",client =kendra_client)\n",
        "\n",
        "\n",
        "\n",
        "response=retriever.get_relevant_documents(\"How many major terror attacks happened in any city in India since 2014?\")\n",
        "\n",
        "response"
      ],
      "metadata": {
        "id": "QHiLvSKSGF3r"
      },
      "execution_count": null,
      "outputs": []
    },
    {
      "cell_type": "code",
      "source": [
        "from langchain import PromptTemplate\n",
        "\n",
        "RAG_PROMPT_TEMPLATE = '''Here is some important context which can help inform the questions the Human asks.\n",
        "Make sure to not make anything up to answer the question if it is not provided in the context.\n",
        "\n",
        "\n",
        "{context}\n",
        "\n",
        "\n",
        "Human: {human_input}\n",
        "\n",
        "Assistant:\n",
        "'''\n",
        "PROMPT = PromptTemplate.from_template(RAG_PROMPT_TEMPLATE)\n",
        "\n",
        "import json\n",
        "human_input=input(\"Enter the question : \")\n",
        "search_results =retriever.get_relevant_documents(human_input)\n",
        "context_string = '\\n\\n'.join([f'Document {ind+1}: ' + i.page_content for ind, i in enumerate(search_results)])\n",
        "prompt_data = PROMPT.format(human_input=human_input, context=context_string)\n",
        "inputText=prompt_data\n",
        "body_part=json.dumps({'inputText': inputText,\n",
        " 'textGenerationConfig': {'maxTokenCount': 8192,\n",
        "  'stopSequences': [],\n",
        "  'temperature': 0,\n",
        "  'topP': 1}})\n",
        "response = boto3_bedrock.invoke_model(\n",
        "    body=body_part,\n",
        "    contentType=\"application/json\",\n",
        "    accept=\"application/json\",\n",
        "    modelId='amazon.titan-text-express-v1'\n",
        ")\n",
        "output_text=json.loads(response['body'].read())['results'][0]['outputText']\n",
        "output_text"
      ],
      "metadata": {
        "id": "X5m4SQ9GH9Gv"
      },
      "execution_count": null,
      "outputs": []
    }
  ]
}