{
  "nbformat": 4,
  "nbformat_minor": 0,
  "metadata": {
    "colab": {
      "provenance": [],
      "authorship_tag": "ABX9TyMKNvaNg57hJsllBfwM7iEJ"
    },
    "kernelspec": {
      "name": "python3",
      "display_name": "Python 3"
    },
    "language_info": {
      "name": "python"
    }
  },
  "cells": [
    {
      "cell_type": "code",
      "execution_count": null,
      "metadata": {
        "colab": {
          "base_uri": "https://localhost:8080/"
        },
        "id": "3ZLadvZSuKRj",
        "outputId": "f47e871d-093c-428b-ad6c-885722c6e28e"
      },
      "outputs": [
        {
          "output_type": "stream",
          "name": "stdout",
          "text": [
            "Collecting boto3\n",
            "  Downloading boto3-1.34.117-py3-none-any.whl (139 kB)\n",
            "\u001b[2K     \u001b[90m━━━━━━━━━━━━━━━━━━━━━━━━━━━━━━━━━━━━━━━━\u001b[0m \u001b[32m139.3/139.3 kB\u001b[0m \u001b[31m3.6 MB/s\u001b[0m eta \u001b[36m0:00:00\u001b[0m\n",
            "\u001b[?25hCollecting pinecone-client\n",
            "  Downloading pinecone_client-4.1.0-py3-none-any.whl (215 kB)\n",
            "\u001b[2K     \u001b[90m━━━━━━━━━━━━━━━━━━━━━━━━━━━━━━━━━━━━━━━━\u001b[0m \u001b[32m215.5/215.5 kB\u001b[0m \u001b[31m14.9 MB/s\u001b[0m eta \u001b[36m0:00:00\u001b[0m\n",
            "\u001b[?25hCollecting botocore<1.35.0,>=1.34.117 (from boto3)\n",
            "  Downloading botocore-1.34.117-py3-none-any.whl (12.3 MB)\n",
            "\u001b[2K     \u001b[90m━━━━━━━━━━━━━━━━━━━━━━━━━━━━━━━━━━━━━━━━\u001b[0m \u001b[32m12.3/12.3 MB\u001b[0m \u001b[31m74.5 MB/s\u001b[0m eta \u001b[36m0:00:00\u001b[0m\n",
            "\u001b[?25hCollecting jmespath<2.0.0,>=0.7.1 (from boto3)\n",
            "  Downloading jmespath-1.0.1-py3-none-any.whl (20 kB)\n",
            "Collecting s3transfer<0.11.0,>=0.10.0 (from boto3)\n",
            "  Downloading s3transfer-0.10.1-py3-none-any.whl (82 kB)\n",
            "\u001b[2K     \u001b[90m━━━━━━━━━━━━━━━━━━━━━━━━━━━━━━━━━━━━━━━━\u001b[0m \u001b[32m82.2/82.2 kB\u001b[0m \u001b[31m11.3 MB/s\u001b[0m eta \u001b[36m0:00:00\u001b[0m\n",
            "\u001b[?25hRequirement already satisfied: certifi>=2019.11.17 in /usr/local/lib/python3.10/dist-packages (from pinecone-client) (2024.2.2)\n",
            "Requirement already satisfied: tqdm>=4.64.1 in /usr/local/lib/python3.10/dist-packages (from pinecone-client) (4.66.4)\n",
            "Requirement already satisfied: typing-extensions>=3.7.4 in /usr/local/lib/python3.10/dist-packages (from pinecone-client) (4.12.0)\n",
            "Requirement already satisfied: urllib3>=1.26.0 in /usr/local/lib/python3.10/dist-packages (from pinecone-client) (2.0.7)\n",
            "Requirement already satisfied: python-dateutil<3.0.0,>=2.1 in /usr/local/lib/python3.10/dist-packages (from botocore<1.35.0,>=1.34.117->boto3) (2.8.2)\n",
            "Requirement already satisfied: six>=1.5 in /usr/local/lib/python3.10/dist-packages (from python-dateutil<3.0.0,>=2.1->botocore<1.35.0,>=1.34.117->boto3) (1.16.0)\n",
            "Installing collected packages: pinecone-client, jmespath, botocore, s3transfer, boto3\n",
            "Successfully installed boto3-1.34.117 botocore-1.34.117 jmespath-1.0.1 pinecone-client-4.1.0 s3transfer-0.10.1\n"
          ]
        }
      ],
      "source": [
        "!pip install boto3 pinecone-client"
      ]
    },
    {
      "cell_type": "code",
      "source": [
        "!unzip /content/pets.zip -d /content"
      ],
      "metadata": {
        "id": "K4V1MkLP1IoZ",
        "colab": {
          "base_uri": "https://localhost:8080/"
        },
        "outputId": "bf5c1ed3-c371-455b-f989-3d42cf211f88"
      },
      "execution_count": null,
      "outputs": [
        {
          "output_type": "stream",
          "name": "stdout",
          "text": [
            "Archive:  /content/pets.zip\n",
            "   creating: /content/pets/cat/\n",
            "  inflating: /content/pets/cat/Image_1.jpg  \n",
            "  inflating: /content/pets/cat/Image_10.jpg  \n",
            "  inflating: /content/pets/cat/Image_11.jpg  \n",
            "  inflating: /content/pets/cat/Image_12.jpg  \n",
            "  inflating: /content/pets/cat/Image_2.jpg  \n",
            "  inflating: /content/pets/cat/Image_3.jpg  \n",
            "  inflating: /content/pets/cat/Image_4.jpg  \n",
            "  inflating: /content/pets/cat/Image_5.jpg  \n",
            "  inflating: /content/pets/cat/Image_6.jpg  \n",
            "  inflating: /content/pets/cat/Image_7.jpeg  \n",
            "  inflating: /content/pets/cat/Image_8.jpg  \n",
            "  inflating: /content/pets/cat/Image_9.jpg  \n",
            "   creating: /content/pets/dog/\n",
            "  inflating: /content/pets/dog/Image_1_dog.jpg  \n",
            "  inflating: /content/pets/dog/Image_10_dog.jpg  \n",
            "  inflating: /content/pets/dog/Image_11_dog.jpg  \n",
            "  inflating: /content/pets/dog/Image_12_dog.jpg  \n",
            "  inflating: /content/pets/dog/Image_2_dog.jpg  \n",
            "  inflating: /content/pets/dog/Image_3_dog.jpg  \n",
            "  inflating: /content/pets/dog/Image_4_dog.jpg  \n",
            "  inflating: /content/pets/dog/Image_5_dog.jpg  \n",
            "  inflating: /content/pets/dog/Image_6_dog.jpg  \n",
            "  inflating: /content/pets/dog/Image_7_dog.jpg  \n",
            "  inflating: /content/pets/dog/Image_8_dog.jpg  \n",
            "  inflating: /content/pets/dog/Image_9_dog.jpg  \n"
          ]
        }
      ]
    },
    {
      "cell_type": "code",
      "source": [
        "import json\n",
        "import boto3\n",
        "import base64\n",
        "import os\n",
        "\n",
        "bedrock_runtime=boto3.client('bedrock-runtime',region_name='us-east-1',aws_access_key_id='{}',aws_secret_access_key='{}')\n",
        "\n",
        "from pinecone import Pinecone\n",
        "\n",
        "pc = Pinecone(api_key=\"{}\")\n",
        "index = pc.Index(\"{}\")\n",
        "\n",
        "from io import BytesIO\n",
        "from PIL import Image\n",
        "\n",
        "MAX_IMAGE_HEIGHT: int = 2048\n",
        "MAX_IMAGE_WIDTH: int = 2048\n",
        "\n",
        "def resizeandGetByteData(imageFile):\n",
        "    image = Image.open(imageFile)\n",
        "    if (image.size[0] * image.size[1]) > (MAX_IMAGE_HEIGHT * MAX_IMAGE_WIDTH):\n",
        "        image = image.resize((MAX_IMAGE_HEIGHT, MAX_IMAGE_WIDTH))\n",
        "    with BytesIO() as output:\n",
        "        image.save(output, 'png')\n",
        "        bytes_data = output.getvalue()\n",
        "    return bytes_data\n",
        "\n",
        "\n",
        "def image_embedding(image_name):\n",
        "  bytes_data = resizeandGetByteData(image_name)\n",
        "  input_image = base64.b64encode(bytes_data).decode('utf8')\n",
        "  body = json.dumps(\n",
        "    {\n",
        "        \"inputImage\": input_image\n",
        "    }\n",
        "  )\n",
        "  response = bedrock_runtime.invoke_model(\n",
        "  body=body,\n",
        "  modelId=\"amazon.titan-embed-image-v1\",\n",
        "  accept=\"application/json\",\n",
        "  contentType=\"application/json\"\n",
        "  )\n",
        "  response_body = json.loads(response.get(\"body\").read())\n",
        "  return response_body.get(\"embedding\")\n",
        "\n",
        "def get_image_files_from_directory(directory):\n",
        "    return [os.path.join(directory, file) for file in os.listdir(directory)]\n",
        "\n",
        "# Directory containing the images of cats\n",
        "image_directory = '/content/pets/cat'\n",
        "\n",
        "# Get list of image files in the cat directory\n",
        "data_to_store = get_image_files_from_directory(image_directory)\n",
        "\n",
        "print(\"Storing Cats data : \",data_to_store)\n",
        "\n",
        "vectors=[]\n",
        "for i in data_to_store:\n",
        "  vectors.append({\n",
        "            \"id\":i,\n",
        "            \"values\": image_embedding(i),\n",
        "            \"metadata\": {\"category\": \"Cat\"}\n",
        "        })\n",
        "\n",
        "index.upsert(\n",
        "    vectors=vectors,\n",
        "    namespace= \"ns1\"\n",
        ")\n",
        "\n",
        "\n",
        "\n",
        "# Directory containing the images of dogs\n",
        "image_directory = '/content/pets/dog'\n",
        "\n",
        "# Get list of image files in the dog directory\n",
        "data_to_store = get_image_files_from_directory(image_directory)\n",
        "\n",
        "print(\"Storing Dogs data : \",data_to_store)\n",
        "\n",
        "vectors=[]\n",
        "for i in data_to_store:\n",
        "  vectors.append({\n",
        "            \"id\":i,\n",
        "            \"values\": image_embedding(i),\n",
        "            \"metadata\": {\"category\": \"Dog\"}\n",
        "        })\n",
        "\n",
        "index.upsert(\n",
        "    vectors=vectors,\n",
        "    namespace= \"ns1\"\n",
        ")"
      ],
      "metadata": {
        "id": "sK0Cp9scv51O",
        "colab": {
          "base_uri": "https://localhost:8080/"
        },
        "outputId": "b812f030-9589-4acb-bf49-1b3806982bb4"
      },
      "execution_count": null,
      "outputs": [
        {
          "output_type": "stream",
          "name": "stdout",
          "text": [
            "Storing Cats data :  ['/content/pets/cat/Image_12.jpg', '/content/pets/cat/Image_2.jpg', '/content/pets/cat/Image_5.jpg', '/content/pets/cat/Image_6.jpg', '/content/pets/cat/Image_8.jpg', '/content/pets/cat/Image_9.jpg', '/content/pets/cat/Image_1.jpg', '/content/pets/cat/Image_7.jpeg', '/content/pets/cat/Image_11.jpg', '/content/pets/cat/Image_3.jpg', '/content/pets/cat/Image_4.jpg', '/content/pets/cat/Image_10.jpg']\n",
            "Storing Dogs data :  ['/content/pets/dog/Image_7_dog.jpg', '/content/pets/dog/Image_12_dog.jpg', '/content/pets/dog/Image_2_dog.jpg', '/content/pets/dog/Image_3_dog.jpg', '/content/pets/dog/Image_1_dog.jpg', '/content/pets/dog/Image_6_dog.jpg', '/content/pets/dog/Image_8_dog.jpg', '/content/pets/dog/Image_5_dog.jpg', '/content/pets/dog/Image_11_dog.jpg', '/content/pets/dog/Image_4_dog.jpg', '/content/pets/dog/Image_10_dog.jpg', '/content/pets/dog/Image_9_dog.jpg']\n"
          ]
        },
        {
          "output_type": "execute_result",
          "data": {
            "text/plain": [
              "{'upserted_count': 12}"
            ]
          },
          "metadata": {},
          "execution_count": 3
        }
      ]
    },
    {
      "cell_type": "code",
      "source": [
        "classification=index.query(\n",
        "    namespace=\"ns1\",\n",
        "    vector=image_embedding('/content/test1_pet.JPG'),\n",
        "    include_metadata=True,\n",
        "    top_k=1\n",
        ")\n",
        "#print(classification)\n",
        "classification['matches'][0]['metadata']['category']"
      ],
      "metadata": {
        "colab": {
          "base_uri": "https://localhost:8080/",
          "height": 35
        },
        "id": "A-1rFUQw2488",
        "outputId": "e38f7ae2-2559-4fe4-8fe8-f35343b4f76d"
      },
      "execution_count": null,
      "outputs": [
        {
          "output_type": "execute_result",
          "data": {
            "text/plain": [
              "'Dog'"
            ],
            "application/vnd.google.colaboratory.intrinsic+json": {
              "type": "string"
            }
          },
          "metadata": {},
          "execution_count": 5
        }
      ]
    },
    {
      "cell_type": "code",
      "source": [
        "classification=index.query(\n",
        "    namespace=\"ns1\",\n",
        "    vector=image_embedding('/content/test1_pet2.JPG'),\n",
        "    include_metadata=True,\n",
        "    top_k=1\n",
        ")\n",
        "classification['matches'][0]['metadata']['category']"
      ],
      "metadata": {
        "colab": {
          "base_uri": "https://localhost:8080/",
          "height": 35
        },
        "id": "IegBUevK4UDm",
        "outputId": "e6dd831d-4628-4c6f-d57a-279de9d033eb"
      },
      "execution_count": null,
      "outputs": [
        {
          "output_type": "execute_result",
          "data": {
            "text/plain": [
              "'Dog'"
            ],
            "application/vnd.google.colaboratory.intrinsic+json": {
              "type": "string"
            }
          },
          "metadata": {},
          "execution_count": 6
        }
      ]
    },
    {
      "cell_type": "code",
      "source": [
        "classification=index.query(\n",
        "    namespace=\"ns1\",\n",
        "    vector=image_embedding('/content/test5.JPG'),\n",
        "    include_metadata=True,\n",
        "    top_k=1\n",
        ")\n",
        "print(classification)\n",
        "classification['matches'][0]['metadata']['category']"
      ],
      "metadata": {
        "colab": {
          "base_uri": "https://localhost:8080/",
          "height": 139
        },
        "id": "enB3pLZ34hGX",
        "outputId": "dcd99b51-31db-4284-91bc-89df69077c42"
      },
      "execution_count": null,
      "outputs": [
        {
          "output_type": "stream",
          "name": "stdout",
          "text": [
            "{'matches': [{'id': '/content/pets/dog/Image_8_dog.jpg',\n",
            "              'metadata': {'category': 'Dog'},\n",
            "              'score': 0.411355346,\n",
            "              'values': []}],\n",
            " 'namespace': 'ns1',\n",
            " 'usage': {'read_units': 6}}\n"
          ]
        },
        {
          "output_type": "execute_result",
          "data": {
            "text/plain": [
              "'Dog'"
            ],
            "application/vnd.google.colaboratory.intrinsic+json": {
              "type": "string"
            }
          },
          "metadata": {},
          "execution_count": 9
        }
      ]
    }
  ]
}